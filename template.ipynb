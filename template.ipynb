{
  "nbformat": 4,
  "nbformat_minor": 0,
  "metadata": {
    "colab": {
      "name": "template.ipynb",
      "provenance": [],
      "authorship_tag": "ABX9TyPsdbTHKhv4R9rONp/41Wh3",
      "include_colab_link": true
    },
    "kernelspec": {
      "name": "python3",
      "display_name": "Python 3"
    },
    "language_info": {
      "name": "python"
    }
  },
  "cells": [
    {
      "cell_type": "markdown",
      "metadata": {
        "id": "view-in-github",
        "colab_type": "text"
      },
      "source": [
        "<a href=\"https://colab.research.google.com/github/ALPHA3DCLASS/testegitprivado/blob/master/template.ipynb\" target=\"_parent\"><img src=\"https://colab.research.google.com/assets/colab-badge.svg\" alt=\"Open In Colab\"/></a>"
      ]
    },
    {
      "cell_type": "markdown",
      "metadata": {
        "id": "OYy6Wmfhjsg_"
      },
      "source": [
        "**LISTA DE EXERCICIOS**\n",
        "\n",
        "1 . Fazer um program que converte a temperatura de Fahrenheit  para Celcius"
      ]
    },
    {
      "cell_type": "code",
      "metadata": {
        "id": "cVGg9JFlbchn",
        "outputId": "f36fec32-e3ae-4c46-8cd0-f5a399c60831",
        "colab": {
          "base_uri": "https://localhost:8080/"
        }
      },
      "source": [
        "\n",
        "\n",
        "\n",
        "\n",
        "\n",
        "\n",
        "\n",
        "\n"
      ],
      "execution_count": 9,
      "outputs": [
        {
          "output_type": "execute_result",
          "data": {
            "text/plain": [
              "75"
            ]
          },
          "metadata": {
            "tags": []
          },
          "execution_count": 9
        }
      ]
    },
    {
      "cell_type": "markdown",
      "metadata": {
        "id": "IuEjMtgckHDj"
      },
      "source": [
        "2 -  Fazer um programe que calcule o volume de um paralepípedo"
      ]
    },
    {
      "cell_type": "code",
      "metadata": {
        "id": "Ds13wJJTkY79"
      },
      "source": [
        ""
      ],
      "execution_count": null,
      "outputs": []
    }
  ]
}