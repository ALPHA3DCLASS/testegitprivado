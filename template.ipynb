{
  "nbformat": 4,
  "nbformat_minor": 0,
  "metadata": {
    "colab": {
      "name": "template.ipynb",
      "provenance": [],
      "authorship_tag": "ABX9TyN3KR1B88UwWjfpv7aQqAXX",
      "include_colab_link": true
    },
    "kernelspec": {
      "name": "python3",
      "display_name": "Python 3"
    },
    "language_info": {
      "name": "python"
    }
  },
  "cells": [
    {
      "cell_type": "markdown",
      "metadata": {
        "id": "view-in-github",
        "colab_type": "text"
      },
      "source": [
        "<a href=\"https://colab.research.google.com/github/ALPHA3DCLASS/testegitprivado/blob/master/template.ipynb\" target=\"_parent\"><img src=\"https://colab.research.google.com/assets/colab-badge.svg\" alt=\"Open In Colab\"/></a>"
      ]
    },
    {
      "cell_type": "code",
      "metadata": {
        "id": "cVGg9JFlbchn"
      },
      "source": [
        "a = 5"
      ],
      "execution_count": null,
      "outputs": []
    },
    {
      "cell_type": "markdown",
      "metadata": {
        "id": "O4MFh-LkwCjK"
      },
      "source": [
        "UNIVERSIDADE FEDERAL DO RIO GRANDE DO NORTE\n",
        "\n",
        "DEPARTAMENTO DE ENGENHARIA MECÂNICA\n",
        "\n",
        "ALGORITMOS E LINGUAGEM DE PROGRAMAÇÃO ORIENTADA A OBJETOS\n",
        "\n",
        "PROF. CARLOS MAGNO"
      ]
    },
    {
      "cell_type": "markdown",
      "metadata": {
        "id": "Fl095PtAwVeZ"
      },
      "source": [
        "**Bem vindos**\n",
        "\n",
        "Vamos executar os exercícios abaixo:\n",
        "\n",
        "1. Faça um programa que converta a temperatura fornecida em oF para oC\n"
      ]
    },
    {
      "cell_type": "code",
      "metadata": {
        "id": "LcY-RHewwUeS"
      },
      "source": [
        ""
      ],
      "execution_count": null,
      "outputs": []
    },
    {
      "cell_type": "markdown",
      "metadata": {
        "id": "-u3u-pT-w8R6"
      },
      "source": [
        "2. Faça um programa que calcula o volume de um paralepípedo"
      ]
    },
    {
      "cell_type": "code",
      "metadata": {
        "id": "xswg5l8Lw6Ca"
      },
      "source": [
        "a=2\n"
      ],
      "execution_count": null,
      "outputs": []
    }
  ]
}