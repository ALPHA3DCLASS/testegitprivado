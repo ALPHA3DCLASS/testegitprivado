{
  "nbformat": 4,
  "nbformat_minor": 0,
  "metadata": {
    "colab": {
      "name": "PythonList04ipynb",
      "provenance": [],
      "authorship_tag": "ABX9TyPP3kqE3ctMt9hYRj1MPMXS",
      "include_colab_link": true
    },
    "kernelspec": {
      "name": "python3",
      "display_name": "Python 3"
    },
    "language_info": {
      "name": "python"
    }
  },
  "cells": [
    {
      "cell_type": "markdown",
      "metadata": {
        "id": "view-in-github",
        "colab_type": "text"
      },
      "source": [
        "<a href=\"https://colab.research.google.com/github/ALPHA3DCLASS/testegitprivado/blob/master/PythonList04.ipynb\" target=\"_parent\"><img src=\"https://colab.research.google.com/assets/colab-badge.svg\" alt=\"Open In Colab\"/></a>"
      ]
    },
    {
      "cell_type": "code",
      "metadata": {
        "id": "xTpmC8MjTsrK"
      },
      "source": [
        "a =8"
      ],
      "execution_count": 1,
      "outputs": []
    }
  ]
}